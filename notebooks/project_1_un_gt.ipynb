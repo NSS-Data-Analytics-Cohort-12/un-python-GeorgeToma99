{
 "cells": [
  {
   "cell_type": "code",
   "execution_count": 1,
   "id": "0832f1b6",
   "metadata": {},
   "outputs": [],
   "source": [
    "import pandas as pd  \n",
    "import numpy as np\n",
    "import matplotlib.pyplot as plt  \n",
    "import seaborn as sns"
   ]
  },
  {
   "cell_type": "markdown",
   "id": "9d1d132f",
   "metadata": {},
   "source": [
    "4. Using the pandas `read_csv()` method, read the GDP dataset into your notebook as a DataFrame called `gdp_df`. Take a look at the first few and last few rows to familiarize yourself with what is contained in this dataset."
   ]
  },
  {
   "cell_type": "code",
   "execution_count": 2,
   "id": "54ccb634",
   "metadata": {},
   "outputs": [],
   "source": [
    "gdp_df = pd.read_csv('../data/gdp_percapita.csv')"
   ]
  },
  {
   "cell_type": "markdown",
   "id": "78434925",
   "metadata": {},
   "source": [
    "5. How many rows and columns are in `gdp_df`? What are the data types of each column?"
   ]
  },
  {
   "cell_type": "code",
   "execution_count": null,
   "id": "1b849d3e",
   "metadata": {},
   "outputs": [],
   "source": [
    "#gdp_df.shape()"
   ]
  },
  {
   "cell_type": "code",
   "execution_count": 3,
   "id": "feaf62f3",
   "metadata": {
    "scrolled": true
   },
   "outputs": [
    {
     "name": "stdout",
     "output_type": "stream",
     "text": [
      "<class 'pandas.core.frame.DataFrame'>\n",
      "RangeIndex: 7662 entries, 0 to 7661\n",
      "Data columns (total 4 columns):\n",
      " #   Column           Non-Null Count  Dtype  \n",
      "---  ------           --------------  -----  \n",
      " 0   Country or Area  7662 non-null   object \n",
      " 1   Year             7662 non-null   int64  \n",
      " 2   Value            7662 non-null   float64\n",
      " 3   Value Footnotes  0 non-null      float64\n",
      "dtypes: float64(2), int64(1), object(1)\n",
      "memory usage: 239.6+ KB\n"
     ]
    }
   ],
   "source": [
    "gdp_df.info()"
   ]
  },
  {
   "cell_type": "markdown",
   "id": "8630d7c2",
   "metadata": {},
   "source": []
  },
  {
   "cell_type": "markdown",
   "id": "78f30850",
   "metadata": {},
   "source": [
    "6. Drop the `Value Footnotes` column and rename the remaining three to 'Country', 'Year', and 'GDP_Per_Capita'."
   ]
  },
  {
   "cell_type": "code",
   "execution_count": 4,
   "id": "04566c77",
   "metadata": {},
   "outputs": [],
   "source": [
    "gdp_df_clean = gdp_df.drop('Value Footnotes', axis=1) #axis=1 takes out the coloumn not the row?"
   ]
  },
  {
   "cell_type": "code",
   "execution_count": 5,
   "id": "ccfe0a71",
   "metadata": {},
   "outputs": [],
   "source": [
    "gdp_df_clean.columns =['Country', 'Year', 'GDP_Per_Capita']"
   ]
  },
  {
   "cell_type": "code",
   "execution_count": null,
   "id": "d03cf2ca",
   "metadata": {},
   "outputs": [],
   "source": [
    "#.pop() takes out the last column"
   ]
  },
  {
   "cell_type": "code",
   "execution_count": null,
   "id": "11b43275",
   "metadata": {},
   "outputs": [],
   "source": [
    "#.rename('old_name' : 'new_name')"
   ]
  },
  {
   "cell_type": "markdown",
   "id": "5c885517",
   "metadata": {},
   "source": [
    "7. How many countries have data for all years? \n",
    "Which countries are missing many years of data? \n",
    "Look at the number of observations per year. What do you notice? "
   ]
  },
  {
   "cell_type": "code",
   "execution_count": 85,
   "id": "c6b3735d",
   "metadata": {},
   "outputs": [],
   "source": [
    "gdp_df_year_count = gdp_df_clean.groupby('Country').count().sort_values('Year')"
   ]
  },
  {
   "cell_type": "code",
   "execution_count": 86,
   "id": "0bc3d154",
   "metadata": {},
   "outputs": [
    {
     "data": {
      "text/html": [
       "<div>\n",
       "<style scoped>\n",
       "    .dataframe tbody tr th:only-of-type {\n",
       "        vertical-align: middle;\n",
       "    }\n",
       "\n",
       "    .dataframe tbody tr th {\n",
       "        vertical-align: top;\n",
       "    }\n",
       "\n",
       "    .dataframe thead th {\n",
       "        text-align: right;\n",
       "    }\n",
       "</style>\n",
       "<table border=\"1\" class=\"dataframe\">\n",
       "  <thead>\n",
       "    <tr style=\"text-align: right;\">\n",
       "      <th></th>\n",
       "      <th>Year</th>\n",
       "      <th>GDP_Per_Capita</th>\n",
       "    </tr>\n",
       "    <tr>\n",
       "      <th>Country</th>\n",
       "      <th></th>\n",
       "      <th></th>\n",
       "    </tr>\n",
       "  </thead>\n",
       "  <tbody>\n",
       "    <tr>\n",
       "      <th>Djibouti</th>\n",
       "      <td>10</td>\n",
       "      <td>10</td>\n",
       "    </tr>\n",
       "    <tr>\n",
       "      <th>Somalia</th>\n",
       "      <td>10</td>\n",
       "      <td>10</td>\n",
       "    </tr>\n",
       "    <tr>\n",
       "      <th>Turks and Caicos Islands</th>\n",
       "      <td>12</td>\n",
       "      <td>12</td>\n",
       "    </tr>\n",
       "    <tr>\n",
       "      <th>Sint Maarten (Dutch part)</th>\n",
       "      <td>14</td>\n",
       "      <td>14</td>\n",
       "    </tr>\n",
       "    <tr>\n",
       "      <th>Kosovo</th>\n",
       "      <td>15</td>\n",
       "      <td>15</td>\n",
       "    </tr>\n",
       "    <tr>\n",
       "      <th>...</th>\n",
       "      <td>...</td>\n",
       "      <td>...</td>\n",
       "    </tr>\n",
       "    <tr>\n",
       "      <th>Jamaica</th>\n",
       "      <td>33</td>\n",
       "      <td>33</td>\n",
       "    </tr>\n",
       "    <tr>\n",
       "      <th>Japan</th>\n",
       "      <td>33</td>\n",
       "      <td>33</td>\n",
       "    </tr>\n",
       "    <tr>\n",
       "      <th>Jordan</th>\n",
       "      <td>33</td>\n",
       "      <td>33</td>\n",
       "    </tr>\n",
       "    <tr>\n",
       "      <th>IDA total</th>\n",
       "      <td>33</td>\n",
       "      <td>33</td>\n",
       "    </tr>\n",
       "    <tr>\n",
       "      <th>Zimbabwe</th>\n",
       "      <td>33</td>\n",
       "      <td>33</td>\n",
       "    </tr>\n",
       "  </tbody>\n",
       "</table>\n",
       "<p>242 rows × 2 columns</p>\n",
       "</div>"
      ],
      "text/plain": [
       "                           Year  GDP_Per_Capita\n",
       "Country                                        \n",
       "Djibouti                     10              10\n",
       "Somalia                      10              10\n",
       "Turks and Caicos Islands     12              12\n",
       "Sint Maarten (Dutch part)    14              14\n",
       "Kosovo                       15              15\n",
       "...                         ...             ...\n",
       "Jamaica                      33              33\n",
       "Japan                        33              33\n",
       "Jordan                       33              33\n",
       "IDA total                    33              33\n",
       "Zimbabwe                     33              33\n",
       "\n",
       "[242 rows x 2 columns]"
      ]
     },
     "execution_count": 86,
     "metadata": {},
     "output_type": "execute_result"
    }
   ],
   "source": [
    "gdp_df_year_count"
   ]
  },
  {
   "cell_type": "code",
   "execution_count": 8,
   "id": "1bd7916a",
   "metadata": {},
   "outputs": [
    {
     "data": {
      "text/plain": [
       "Year\n",
       "33    202\n",
       "28     10\n",
       "32      5\n",
       "23      4\n",
       "31      3\n",
       "22      3\n",
       "29      2\n",
       "26      2\n",
       "10      2\n",
       "12      1\n",
       "25      1\n",
       "20      1\n",
       "19      1\n",
       "16      1\n",
       "30      1\n",
       "15      1\n",
       "14      1\n",
       "24      1\n",
       "Name: count, dtype: int64"
      ]
     },
     "execution_count": 8,
     "metadata": {},
     "output_type": "execute_result"
    }
   ],
   "source": [
    "gdp_df_year_count.value_counts('Year')"
   ]
  },
  {
   "cell_type": "code",
   "execution_count": 9,
   "id": "a54a4994",
   "metadata": {},
   "outputs": [
    {
     "data": {
      "text/html": [
       "<div>\n",
       "<style scoped>\n",
       "    .dataframe tbody tr th:only-of-type {\n",
       "        vertical-align: middle;\n",
       "    }\n",
       "\n",
       "    .dataframe tbody tr th {\n",
       "        vertical-align: top;\n",
       "    }\n",
       "\n",
       "    .dataframe thead th {\n",
       "        text-align: right;\n",
       "    }\n",
       "</style>\n",
       "<table border=\"1\" class=\"dataframe\">\n",
       "  <thead>\n",
       "    <tr style=\"text-align: right;\">\n",
       "      <th></th>\n",
       "      <th>Year</th>\n",
       "      <th>GDP_Per_Capita</th>\n",
       "    </tr>\n",
       "    <tr>\n",
       "      <th>Country</th>\n",
       "      <th></th>\n",
       "      <th></th>\n",
       "    </tr>\n",
       "  </thead>\n",
       "  <tbody>\n",
       "    <tr>\n",
       "      <th>Africa Eastern and Southern</th>\n",
       "      <td>33</td>\n",
       "      <td>33</td>\n",
       "    </tr>\n",
       "    <tr>\n",
       "      <th>Africa Western and Central</th>\n",
       "      <td>33</td>\n",
       "      <td>33</td>\n",
       "    </tr>\n",
       "    <tr>\n",
       "      <th>Albania</th>\n",
       "      <td>33</td>\n",
       "      <td>33</td>\n",
       "    </tr>\n",
       "    <tr>\n",
       "      <th>Algeria</th>\n",
       "      <td>33</td>\n",
       "      <td>33</td>\n",
       "    </tr>\n",
       "    <tr>\n",
       "      <th>Angola</th>\n",
       "      <td>33</td>\n",
       "      <td>33</td>\n",
       "    </tr>\n",
       "    <tr>\n",
       "      <th>...</th>\n",
       "      <td>...</td>\n",
       "      <td>...</td>\n",
       "    </tr>\n",
       "    <tr>\n",
       "      <th>Vanuatu</th>\n",
       "      <td>33</td>\n",
       "      <td>33</td>\n",
       "    </tr>\n",
       "    <tr>\n",
       "      <th>Viet Nam</th>\n",
       "      <td>33</td>\n",
       "      <td>33</td>\n",
       "    </tr>\n",
       "    <tr>\n",
       "      <th>World</th>\n",
       "      <td>33</td>\n",
       "      <td>33</td>\n",
       "    </tr>\n",
       "    <tr>\n",
       "      <th>Zambia</th>\n",
       "      <td>33</td>\n",
       "      <td>33</td>\n",
       "    </tr>\n",
       "    <tr>\n",
       "      <th>Zimbabwe</th>\n",
       "      <td>33</td>\n",
       "      <td>33</td>\n",
       "    </tr>\n",
       "  </tbody>\n",
       "</table>\n",
       "<p>202 rows × 2 columns</p>\n",
       "</div>"
      ],
      "text/plain": [
       "                             Year  GDP_Per_Capita\n",
       "Country                                          \n",
       "Africa Eastern and Southern    33              33\n",
       "Africa Western and Central     33              33\n",
       "Albania                        33              33\n",
       "Algeria                        33              33\n",
       "Angola                         33              33\n",
       "...                           ...             ...\n",
       "Vanuatu                        33              33\n",
       "Viet Nam                       33              33\n",
       "World                          33              33\n",
       "Zambia                         33              33\n",
       "Zimbabwe                       33              33\n",
       "\n",
       "[202 rows x 2 columns]"
      ]
     },
     "execution_count": 9,
     "metadata": {},
     "output_type": "execute_result"
    }
   ],
   "source": [
    "gdp_df_year_count[gdp_df_year_count['Year'] == 33]"
   ]
  },
  {
   "cell_type": "markdown",
   "id": "9fe0c9ff",
   "metadata": {},
   "source": [
    "8. In this question, you're going to create some plots to show the distribution of GDP per capita for the year 2020. Go to the Python Graph Gallery (https://www.python-graph-gallery.com/) and look at the different types of plots under the Distribution section. Create a histogram, a density plot, a boxplot, and a violin plot. What do you notice when you look at these plots? How do the plots compare and what information can you get out of one type that you can't necessarily get out of the others?\n"
   ]
  },
  {
   "cell_type": "code",
   "execution_count": 10,
   "id": "9989047d",
   "metadata": {},
   "outputs": [],
   "source": [
    "gdp_df_2020 = gdp_df_clean[gdp_df_clean['Year'] == 2020]"
   ]
  },
  {
   "cell_type": "code",
   "execution_count": 11,
   "id": "3d6f04aa",
   "metadata": {},
   "outputs": [
    {
     "data": {
      "text/html": [
       "<div>\n",
       "<style scoped>\n",
       "    .dataframe tbody tr th:only-of-type {\n",
       "        vertical-align: middle;\n",
       "    }\n",
       "\n",
       "    .dataframe tbody tr th {\n",
       "        vertical-align: top;\n",
       "    }\n",
       "\n",
       "    .dataframe thead th {\n",
       "        text-align: right;\n",
       "    }\n",
       "</style>\n",
       "<table border=\"1\" class=\"dataframe\">\n",
       "  <thead>\n",
       "    <tr style=\"text-align: right;\">\n",
       "      <th></th>\n",
       "      <th>Country</th>\n",
       "      <th>GDP_Per_Capita</th>\n",
       "    </tr>\n",
       "  </thead>\n",
       "  <tbody>\n",
       "    <tr>\n",
       "      <th>1</th>\n",
       "      <td>Afghanistan</td>\n",
       "      <td>1968.341002</td>\n",
       "    </tr>\n",
       "    <tr>\n",
       "      <th>22</th>\n",
       "      <td>Africa Eastern and Southern</td>\n",
       "      <td>3455.023119</td>\n",
       "    </tr>\n",
       "    <tr>\n",
       "      <th>55</th>\n",
       "      <td>Africa Western and Central</td>\n",
       "      <td>3957.933804</td>\n",
       "    </tr>\n",
       "    <tr>\n",
       "      <th>88</th>\n",
       "      <td>Albania</td>\n",
       "      <td>13278.369769</td>\n",
       "    </tr>\n",
       "    <tr>\n",
       "      <th>121</th>\n",
       "      <td>Algeria</td>\n",
       "      <td>10844.770764</td>\n",
       "    </tr>\n",
       "    <tr>\n",
       "      <th>...</th>\n",
       "      <td>...</td>\n",
       "      <td>...</td>\n",
       "    </tr>\n",
       "    <tr>\n",
       "      <th>7503</th>\n",
       "      <td>Viet Nam</td>\n",
       "      <td>10450.622382</td>\n",
       "    </tr>\n",
       "    <tr>\n",
       "      <th>7536</th>\n",
       "      <td>West Bank and Gaza</td>\n",
       "      <td>5402.538773</td>\n",
       "    </tr>\n",
       "    <tr>\n",
       "      <th>7565</th>\n",
       "      <td>World</td>\n",
       "      <td>16204.169107</td>\n",
       "    </tr>\n",
       "    <tr>\n",
       "      <th>7598</th>\n",
       "      <td>Zambia</td>\n",
       "      <td>3183.650773</td>\n",
       "    </tr>\n",
       "    <tr>\n",
       "      <th>7631</th>\n",
       "      <td>Zimbabwe</td>\n",
       "      <td>1990.319419</td>\n",
       "    </tr>\n",
       "  </tbody>\n",
       "</table>\n",
       "<p>242 rows × 2 columns</p>\n",
       "</div>"
      ],
      "text/plain": [
       "                          Country  GDP_Per_Capita\n",
       "1                     Afghanistan     1968.341002\n",
       "22    Africa Eastern and Southern     3455.023119\n",
       "55     Africa Western and Central     3957.933804\n",
       "88                        Albania    13278.369769\n",
       "121                       Algeria    10844.770764\n",
       "...                           ...             ...\n",
       "7503                     Viet Nam    10450.622382\n",
       "7536           West Bank and Gaza     5402.538773\n",
       "7565                        World    16204.169107\n",
       "7598                       Zambia     3183.650773\n",
       "7631                     Zimbabwe     1990.319419\n",
       "\n",
       "[242 rows x 2 columns]"
      ]
     },
     "execution_count": 11,
     "metadata": {},
     "output_type": "execute_result"
    }
   ],
   "source": [
    "gdp_df_2020.drop('Year', axis =1)"
   ]
  },
  {
   "cell_type": "code",
   "execution_count": 87,
   "id": "5add6751",
   "metadata": {},
   "outputs": [
    {
     "data": {
      "text/plain": [
       "array([[<Axes: title={'center': 'GDP_Per_Capita'}>]], dtype=object)"
      ]
     },
     "execution_count": 87,
     "metadata": {},
     "output_type": "execute_result"
    },
    {
     "data": {
      "image/png": "[encoded data removed]",
      "text/plain": [
       "<Figure size 640x480 with 1 Axes>"
      ]
     },
     "metadata": {},
     "output_type": "display_data"
    }
   ],
   "source": [
    "gdp_df_2020.hist('GDP_Per_Capita', bins = 30, edgecolor = 'black')"
   ]
  },
  {
   "cell_type": "code",
   "execution_count": 91,
   "id": "231d26e5",
   "metadata": {},
   "outputs": [
    {
     "data": {
      "text/plain": [
       "(array([111.,  60.,  24.,  19.,  15.,   5.,   4.,   1.,   2.,   1.]),\n",
       " array([   711.35526342,  11815.35121222,  22919.34716101,  34023.3431098 ,\n",
       "         45127.3390586 ,  56231.33500739,  67335.33095619,  78439.32690498,\n",
       "         89543.32285377, 100647.31880257, 111751.31475136]),\n",
       " <BarContainer object of 10 artists>)"
      ]
     },
     "execution_count": 91,
     "metadata": {},
     "output_type": "execute_result"
    },
    {
     "data": {
      "image/png": "[encoded data removed]",
      "text/plain": [
       "<Figure size 1200x700 with 1 Axes>"
      ]
     },
     "metadata": {},
     "output_type": "display_data"
    }
   ],
   "source": [
    "fig, ax = plt.subplots(figsize = (12, 7))\n",
    "ax.hist(gdp_df_2020['GDP_Per_Capita'], edgecolor = 'black')\n",
    "\n",
    "##first line sets up the graphy itself, the second line plots it and gives its contents."
   ]
  },
  {
   "cell_type": "code",
   "execution_count": 93,
   "id": "74f5ad46",
   "metadata": {},
   "outputs": [],
   "source": [
    "##sns.kdeplot('GDP_Per_Capita') #fix this it looks diffrent"
   ]
  },
  {
   "cell_type": "code",
   "execution_count": 14,
   "id": "74b5ba08",
   "metadata": {},
   "outputs": [
    {
     "data": {
      "text/plain": [
       "[<matplotlib.lines.Line2D at 0x13d40fc90>]"
      ]
     },
     "execution_count": 14,
     "metadata": {},
     "output_type": "execute_result"
    },
    {
     "data": {
      "image/png": "[encoded data removed]",
      "text/plain": [
       "<Figure size 900x900 with 1 Axes>"
      ]
     },
     "metadata": {},
     "output_type": "display_data"
    }
   ],
   "source": [
    "fig, ax = plt.subplots(figsize = (9, 9))\n",
    "ax.plot(gdp_df_2020['GDP_Per_Capita'])"
   ]
  },
  {
   "cell_type": "code",
   "execution_count": 15,
   "id": "8aa2f653",
   "metadata": {},
   "outputs": [
    {
     "data": {
      "text/plain": [
       "{'whiskers': [<matplotlib.lines.Line2D at 0x13d575c50>,\n",
       "  <matplotlib.lines.Line2D at 0x13d576150>],\n",
       " 'caps': [<matplotlib.lines.Line2D at 0x13d5773d0>,\n",
       "  <matplotlib.lines.Line2D at 0x13d577f50>],\n",
       " 'boxes': [<matplotlib.lines.Line2D at 0x13d4afe50>],\n",
       " 'medians': [<matplotlib.lines.Line2D at 0x13d580ad0>],\n",
       " 'fliers': [<matplotlib.lines.Line2D at 0x13d581550>],\n",
       " 'means': []}"
      ]
     },
     "execution_count": 15,
     "metadata": {},
     "output_type": "execute_result"
    },
    {
     "data": {
      "image/png": "[encoded data removed]",
      "text/plain": [
       "<Figure size 900x900 with 1 Axes>"
      ]
     },
     "metadata": {},
     "output_type": "display_data"
    }
   ],
   "source": [
    "fig, ax = plt.subplots(figsize = (9, 9))\n",
    "ax.boxplot(gdp_df_2020['GDP_Per_Capita'])"
   ]
  },
  {
   "cell_type": "code",
   "execution_count": 16,
   "id": "7a05efb5",
   "metadata": {},
   "outputs": [
    {
     "data": {
      "image/png": "[encoded data removed]",
      "text/plain": [
       "<Figure size 640x480 with 1 Axes>"
      ]
     },
     "metadata": {},
     "output_type": "display_data"
    }
   ],
   "source": [
    "fig, ax = plt.subplots()\n",
    "vp = ax.violinplot(gdp_df_2020['GDP_Per_Capita'])"
   ]
  },
  {
   "cell_type": "markdown",
   "id": "0e287757",
   "metadata": {},
   "source": [
    "9. What was the median GDP per capita value in 2020?"
   ]
  },
  {
   "cell_type": "code",
   "execution_count": 17,
   "id": "029e0757",
   "metadata": {},
   "outputs": [
    {
     "data": {
      "text/html": [
       "<div>\n",
       "<style scoped>\n",
       "    .dataframe tbody tr th:only-of-type {\n",
       "        vertical-align: middle;\n",
       "    }\n",
       "\n",
       "    .dataframe tbody tr th {\n",
       "        vertical-align: top;\n",
       "    }\n",
       "\n",
       "    .dataframe thead th {\n",
       "        text-align: right;\n",
       "    }\n",
       "</style>\n",
       "<table border=\"1\" class=\"dataframe\">\n",
       "  <thead>\n",
       "    <tr style=\"text-align: right;\">\n",
       "      <th></th>\n",
       "      <th>Year</th>\n",
       "      <th>GDP_Per_Capita</th>\n",
       "    </tr>\n",
       "  </thead>\n",
       "  <tbody>\n",
       "    <tr>\n",
       "      <th>count</th>\n",
       "      <td>242.0</td>\n",
       "      <td>242.000000</td>\n",
       "    </tr>\n",
       "    <tr>\n",
       "      <th>mean</th>\n",
       "      <td>2020.0</td>\n",
       "      <td>19586.754446</td>\n",
       "    </tr>\n",
       "    <tr>\n",
       "      <th>std</th>\n",
       "      <td>0.0</td>\n",
       "      <td>19640.401631</td>\n",
       "    </tr>\n",
       "    <tr>\n",
       "      <th>min</th>\n",
       "      <td>2020.0</td>\n",
       "      <td>711.355263</td>\n",
       "    </tr>\n",
       "    <tr>\n",
       "      <th>25%</th>\n",
       "      <td>2020.0</td>\n",
       "      <td>4961.408532</td>\n",
       "    </tr>\n",
       "    <tr>\n",
       "      <th>50%</th>\n",
       "      <td>2020.0</td>\n",
       "      <td>13357.997573</td>\n",
       "    </tr>\n",
       "    <tr>\n",
       "      <th>75%</th>\n",
       "      <td>2020.0</td>\n",
       "      <td>27064.125293</td>\n",
       "    </tr>\n",
       "    <tr>\n",
       "      <th>max</th>\n",
       "      <td>2020.0</td>\n",
       "      <td>111751.314751</td>\n",
       "    </tr>\n",
       "  </tbody>\n",
       "</table>\n",
       "</div>"
      ],
      "text/plain": [
       "         Year  GDP_Per_Capita\n",
       "count   242.0      242.000000\n",
       "mean   2020.0    19586.754446\n",
       "std       0.0    19640.401631\n",
       "min    2020.0      711.355263\n",
       "25%    2020.0     4961.408532\n",
       "50%    2020.0    13357.997573\n",
       "75%    2020.0    27064.125293\n",
       "max    2020.0   111751.314751"
      ]
     },
     "execution_count": 17,
     "metadata": {},
     "output_type": "execute_result"
    }
   ],
   "source": [
    "gdp_df_2020.describe()"
   ]
  },
  {
   "cell_type": "code",
   "execution_count": 94,
   "id": "824ad9f3",
   "metadata": {},
   "outputs": [
    {
     "data": {
      "text/plain": [
       "13357.997573370474"
      ]
     },
     "execution_count": 94,
     "metadata": {},
     "output_type": "execute_result"
    }
   ],
   "source": [
    "gdp_df_2020['GDP_Per_Capita'].median() # you can add a round() to get it rounded."
   ]
  },
  {
   "cell_type": "markdown",
   "id": "a807799c",
   "metadata": {},
   "source": [
    "10. \n",
    "    For this question, you're going to create some visualizations to compare GDP per capita values for the years 1990, 2000, 2010, and 2020. Start by subsetting your data to just these 4 years into a new DataFrame named gdp_decades. Using this, create the following 4 plots:\n",
    "\t* A boxplot\n",
    "\t* A barplot (check out the Barplot with Seaborn section: https://www.python-graph-gallery.com/barplot/#Seaborn)\n",
    "\t* A scatterplot\n",
    "\t* A scatterplot with a trend line overlaid (see this regplot example: https://www.python-graph-gallery.com/42-custom-linear-regression-fit-seaborn)  \n",
    "Comment on what you observe has happened to GDP values over time and the relative strengths and weaknesses of each type of plot."
   ]
  },
  {
   "cell_type": "code",
   "execution_count": 18,
   "id": "cba7c06f",
   "metadata": {},
   "outputs": [
    {
     "name": "stdout",
     "output_type": "stream",
     "text": [
      "<class 'pandas.core.frame.DataFrame'>\n",
      "RangeIndex: 7662 entries, 0 to 7661\n",
      "Data columns (total 3 columns):\n",
      " #   Column          Non-Null Count  Dtype  \n",
      "---  ------          --------------  -----  \n",
      " 0   Country         7662 non-null   object \n",
      " 1   Year            7662 non-null   int64  \n",
      " 2   GDP_Per_Capita  7662 non-null   float64\n",
      "dtypes: float64(1), int64(1), object(1)\n",
      "memory usage: 179.7+ KB\n"
     ]
    }
   ],
   "source": [
    "gdp_df_clean.info()"
   ]
  },
  {
   "cell_type": "code",
   "execution_count": 19,
   "id": "d0bc37a2",
   "metadata": {},
   "outputs": [],
   "source": [
    "gdp_df_10 = gdp_df_clean[gdp_df_clean[\"Year\"].isin ([1990, 2000, 2010, 2020])]"
   ]
  },
  {
   "cell_type": "code",
   "execution_count": 20,
   "id": "b5e34ad9",
   "metadata": {},
   "outputs": [],
   "source": [
    "#gdp_df_clean[gdp_df_clean['Year'] == 2020]"
   ]
  },
  {
   "cell_type": "code",
   "execution_count": 21,
   "id": "e595cf32",
   "metadata": {},
   "outputs": [
    {
     "data": {
      "text/html": [
       "<div>\n",
       "<style scoped>\n",
       "    .dataframe tbody tr th:only-of-type {\n",
       "        vertical-align: middle;\n",
       "    }\n",
       "\n",
       "    .dataframe tbody tr th {\n",
       "        vertical-align: top;\n",
       "    }\n",
       "\n",
       "    .dataframe thead th {\n",
       "        text-align: right;\n",
       "    }\n",
       "</style>\n",
       "<table border=\"1\" class=\"dataframe\">\n",
       "  <thead>\n",
       "    <tr style=\"text-align: right;\">\n",
       "      <th></th>\n",
       "      <th>Country</th>\n",
       "      <th>Year</th>\n",
       "      <th>GDP_Per_Capita</th>\n",
       "    </tr>\n",
       "  </thead>\n",
       "  <tbody>\n",
       "    <tr>\n",
       "      <th>1</th>\n",
       "      <td>Afghanistan</td>\n",
       "      <td>2020</td>\n",
       "      <td>1968.341002</td>\n",
       "    </tr>\n",
       "    <tr>\n",
       "      <th>11</th>\n",
       "      <td>Afghanistan</td>\n",
       "      <td>2010</td>\n",
       "      <td>2026.163818</td>\n",
       "    </tr>\n",
       "    <tr>\n",
       "      <th>22</th>\n",
       "      <td>Africa Eastern and Southern</td>\n",
       "      <td>2020</td>\n",
       "      <td>3455.023119</td>\n",
       "    </tr>\n",
       "    <tr>\n",
       "      <th>32</th>\n",
       "      <td>Africa Eastern and Southern</td>\n",
       "      <td>2010</td>\n",
       "      <td>3513.315920</td>\n",
       "    </tr>\n",
       "    <tr>\n",
       "      <th>42</th>\n",
       "      <td>Africa Eastern and Southern</td>\n",
       "      <td>2000</td>\n",
       "      <td>2897.140841</td>\n",
       "    </tr>\n",
       "  </tbody>\n",
       "</table>\n",
       "</div>"
      ],
      "text/plain": [
       "                        Country  Year  GDP_Per_Capita\n",
       "1                   Afghanistan  2020     1968.341002\n",
       "11                  Afghanistan  2010     2026.163818\n",
       "22  Africa Eastern and Southern  2020     3455.023119\n",
       "32  Africa Eastern and Southern  2010     3513.315920\n",
       "42  Africa Eastern and Southern  2000     2897.140841"
      ]
     },
     "execution_count": 21,
     "metadata": {},
     "output_type": "execute_result"
    }
   ],
   "source": [
    "gdp_df_10.head()"
   ]
  },
  {
   "cell_type": "code",
   "execution_count": 22,
   "id": "17415431",
   "metadata": {},
   "outputs": [
    {
     "data": {
      "text/plain": [
       "{'whiskers': [<matplotlib.lines.Line2D at 0x13d65cd90>,\n",
       "  <matplotlib.lines.Line2D at 0x13d65d950>],\n",
       " 'caps': [<matplotlib.lines.Line2D at 0x13d65e4d0>,\n",
       "  <matplotlib.lines.Line2D at 0x13d65ef50>],\n",
       " 'boxes': [<matplotlib.lines.Line2D at 0x13d65c190>],\n",
       " 'medians': [<matplotlib.lines.Line2D at 0x13d65f8d0>],\n",
       " 'fliers': [<matplotlib.lines.Line2D at 0x13d66c450>],\n",
       " 'means': []}"
      ]
     },
     "execution_count": 22,
     "metadata": {},
     "output_type": "execute_result"
    },
    {
     "data": {
      "image/png": "[encoded data removed]",
      "text/plain": [
       "<Figure size 900x900 with 1 Axes>"
      ]
     },
     "metadata": {},
     "output_type": "display_data"
    }
   ],
   "source": [
    "fig, ax = plt.subplots(figsize = (9, 9))\n",
    "ax.boxplot(gdp_df_10['GDP_Per_Capita'])"
   ]
  },
  {
   "cell_type": "code",
   "execution_count": 96,
   "id": "cfcda993",
   "metadata": {},
   "outputs": [
    {
     "data": {
      "text/plain": [
       "<BarContainer object of 921 artists>"
      ]
     },
     "execution_count": 96,
     "metadata": {},
     "output_type": "execute_result"
    },
    {
     "data": {
      "image/png": "[encoded data removed]",
      "text/plain": [
       "<Figure size 640x480 with 1 Axes>"
      ]
     },
     "metadata": {},
     "output_type": "display_data"
    }
   ],
   "source": [
    "plt.barh(y=gdp_df_10.Year, width=gdp_df_10.GDP_Per_Capita)"
   ]
  },
  {
   "cell_type": "code",
   "execution_count": 24,
   "id": "17800e11",
   "metadata": {},
   "outputs": [],
   "source": [
    "int_use = pd.read_csv('../data/internet_use.csv', nrows = 6084)"
   ]
  },
  {
   "cell_type": "code",
   "execution_count": 25,
   "id": "723889e0",
   "metadata": {},
   "outputs": [
    {
     "data": {
      "text/plain": [
       "<matplotlib.collections.PathCollection at 0x13de48710>"
      ]
     },
     "execution_count": 25,
     "metadata": {},
     "output_type": "execute_result"
    },
    {
     "data": {
      "image/png": "[encoded data removed]",
      "text/plain": [
       "<Figure size 640x480 with 1 Axes>"
      ]
     },
     "metadata": {},
     "output_type": "display_data"
    }
   ],
   "source": [
    "plt.scatter(x=gdp_df_10['Year'], y=gdp_df_10['GDP_Per_Capita'])"
   ]
  },
  {
   "cell_type": "code",
   "execution_count": 26,
   "id": "7a6dfa62",
   "metadata": {},
   "outputs": [
    {
     "data": {
      "image/png": "[encoded data removed]",
      "text/plain": [
       "<Figure size 800x600 with 1 Axes>"
      ]
     },
     "metadata": {},
     "output_type": "display_data"
    }
   ],
   "source": [
    "fig, ax = plt.subplots(figsize=(8, 6))\n",
    "sns.regplot(\n",
    "    x=gdp_df_10[\"Year\"],\n",
    "    y=gdp_df_10[\"GDP_Per_Capita\"],\n",
    "    line_kws={\"color\": \"r\"},\n",
    "    ax=ax\n",
    ")\n",
    "plt.show()"
   ]
  },
  {
   "cell_type": "markdown",
   "id": "627f4581",
   "metadata": {},
   "source": [
    "11. Which country was the first to have a GDP per capita greater than $100,000?"
   ]
  },
  {
   "cell_type": "code",
   "execution_count": 27,
   "id": "f27671b7",
   "metadata": {},
   "outputs": [
    {
     "data": {
      "text/html": [
       "<div>\n",
       "<style scoped>\n",
       "    .dataframe tbody tr th:only-of-type {\n",
       "        vertical-align: middle;\n",
       "    }\n",
       "\n",
       "    .dataframe tbody tr th {\n",
       "        vertical-align: top;\n",
       "    }\n",
       "\n",
       "    .dataframe thead th {\n",
       "        text-align: right;\n",
       "    }\n",
       "</style>\n",
       "<table border=\"1\" class=\"dataframe\">\n",
       "  <thead>\n",
       "    <tr style=\"text-align: right;\">\n",
       "      <th></th>\n",
       "      <th>Country</th>\n",
       "      <th>Year</th>\n",
       "      <th>GDP_Per_Capita</th>\n",
       "    </tr>\n",
       "  </thead>\n",
       "  <tbody>\n",
       "    <tr>\n",
       "      <th>0</th>\n",
       "      <td>Afghanistan</td>\n",
       "      <td>2021</td>\n",
       "      <td>1517.016266</td>\n",
       "    </tr>\n",
       "    <tr>\n",
       "      <th>1</th>\n",
       "      <td>Afghanistan</td>\n",
       "      <td>2020</td>\n",
       "      <td>1968.341002</td>\n",
       "    </tr>\n",
       "    <tr>\n",
       "      <th>2</th>\n",
       "      <td>Afghanistan</td>\n",
       "      <td>2019</td>\n",
       "      <td>2079.921861</td>\n",
       "    </tr>\n",
       "    <tr>\n",
       "      <th>3</th>\n",
       "      <td>Afghanistan</td>\n",
       "      <td>2018</td>\n",
       "      <td>2060.698973</td>\n",
       "    </tr>\n",
       "    <tr>\n",
       "      <th>4</th>\n",
       "      <td>Afghanistan</td>\n",
       "      <td>2017</td>\n",
       "      <td>2096.093111</td>\n",
       "    </tr>\n",
       "  </tbody>\n",
       "</table>\n",
       "</div>"
      ],
      "text/plain": [
       "       Country  Year  GDP_Per_Capita\n",
       "0  Afghanistan  2021     1517.016266\n",
       "1  Afghanistan  2020     1968.341002\n",
       "2  Afghanistan  2019     2079.921861\n",
       "3  Afghanistan  2018     2060.698973\n",
       "4  Afghanistan  2017     2096.093111"
      ]
     },
     "execution_count": 27,
     "metadata": {},
     "output_type": "execute_result"
    }
   ],
   "source": [
    "gdp_df_clean.head()"
   ]
  },
  {
   "cell_type": "code",
   "execution_count": 28,
   "id": "d533fab7",
   "metadata": {},
   "outputs": [],
   "source": [
    "gdp_year = gdp_df_clean.sort_values('Year')"
   ]
  },
  {
   "cell_type": "code",
   "execution_count": 29,
   "id": "aa4a850c",
   "metadata": {},
   "outputs": [
    {
     "data": {
      "text/plain": [
       "Country           United Arab Emirates\n",
       "Year                              1990\n",
       "GDP_Per_Capita           105893.626059\n",
       "Name: 7302, dtype: object"
      ]
     },
     "execution_count": 29,
     "metadata": {},
     "output_type": "execute_result"
    }
   ],
   "source": [
    "gdp_year[gdp_year.GDP_Per_Capita > 100000].iloc[0]"
   ]
  },
  {
   "cell_type": "code",
   "execution_count": 30,
   "id": "b5a68a17",
   "metadata": {},
   "outputs": [],
   "source": [
    "## used iloc to locate the first (o) time GDP_Per_Capita > 100000.\n",
    "## you can use .reset_index() to make values reset to 0,1,2,3...etc."
   ]
  },
  {
   "cell_type": "markdown",
   "id": "863e537b",
   "metadata": {},
   "source": [
    "12. Which country had the highest GDP per capita in 2020? \n",
    "Create a plot showing how this country's GDP per capita has changed over the timespan of the dataset."
   ]
  },
  {
   "cell_type": "code",
   "execution_count": 31,
   "id": "2463b77e",
   "metadata": {},
   "outputs": [
    {
     "data": {
      "text/html": [
       "<div>\n",
       "<style scoped>\n",
       "    .dataframe tbody tr th:only-of-type {\n",
       "        vertical-align: middle;\n",
       "    }\n",
       "\n",
       "    .dataframe tbody tr th {\n",
       "        vertical-align: top;\n",
       "    }\n",
       "\n",
       "    .dataframe thead th {\n",
       "        text-align: right;\n",
       "    }\n",
       "</style>\n",
       "<table border=\"1\" class=\"dataframe\">\n",
       "  <thead>\n",
       "    <tr style=\"text-align: right;\">\n",
       "      <th></th>\n",
       "      <th>Country</th>\n",
       "      <th>Year</th>\n",
       "      <th>GDP_Per_Capita</th>\n",
       "    </tr>\n",
       "  </thead>\n",
       "  <tbody>\n",
       "    <tr>\n",
       "      <th>1</th>\n",
       "      <td>Afghanistan</td>\n",
       "      <td>2020</td>\n",
       "      <td>1968.341002</td>\n",
       "    </tr>\n",
       "    <tr>\n",
       "      <th>22</th>\n",
       "      <td>Africa Eastern and Southern</td>\n",
       "      <td>2020</td>\n",
       "      <td>3455.023119</td>\n",
       "    </tr>\n",
       "    <tr>\n",
       "      <th>55</th>\n",
       "      <td>Africa Western and Central</td>\n",
       "      <td>2020</td>\n",
       "      <td>3957.933804</td>\n",
       "    </tr>\n",
       "    <tr>\n",
       "      <th>88</th>\n",
       "      <td>Albania</td>\n",
       "      <td>2020</td>\n",
       "      <td>13278.369769</td>\n",
       "    </tr>\n",
       "    <tr>\n",
       "      <th>121</th>\n",
       "      <td>Algeria</td>\n",
       "      <td>2020</td>\n",
       "      <td>10844.770764</td>\n",
       "    </tr>\n",
       "  </tbody>\n",
       "</table>\n",
       "</div>"
      ],
      "text/plain": [
       "                         Country  Year  GDP_Per_Capita\n",
       "1                    Afghanistan  2020     1968.341002\n",
       "22   Africa Eastern and Southern  2020     3455.023119\n",
       "55    Africa Western and Central  2020     3957.933804\n",
       "88                       Albania  2020    13278.369769\n",
       "121                      Algeria  2020    10844.770764"
      ]
     },
     "execution_count": 31,
     "metadata": {},
     "output_type": "execute_result"
    }
   ],
   "source": [
    "gdp_df_2020.head()"
   ]
  },
  {
   "cell_type": "code",
   "execution_count": 32,
   "id": "3d5135e0",
   "metadata": {},
   "outputs": [
    {
     "data": {
      "text/plain": [
       "111751.3147513618"
      ]
     },
     "execution_count": 32,
     "metadata": {},
     "output_type": "execute_result"
    }
   ],
   "source": [
    "gdp_df_2020['GDP_Per_Capita'].max()"
   ]
  },
  {
   "cell_type": "code",
   "execution_count": 33,
   "id": "be6ea27f",
   "metadata": {},
   "outputs": [
    {
     "data": {
      "text/html": [
       "<div>\n",
       "<style scoped>\n",
       "    .dataframe tbody tr th:only-of-type {\n",
       "        vertical-align: middle;\n",
       "    }\n",
       "\n",
       "    .dataframe tbody tr th {\n",
       "        vertical-align: top;\n",
       "    }\n",
       "\n",
       "    .dataframe thead th {\n",
       "        text-align: right;\n",
       "    }\n",
       "</style>\n",
       "<table border=\"1\" class=\"dataframe\">\n",
       "  <thead>\n",
       "    <tr style=\"text-align: right;\">\n",
       "      <th></th>\n",
       "      <th>Country</th>\n",
       "      <th>Year</th>\n",
       "      <th>GDP_Per_Capita</th>\n",
       "    </tr>\n",
       "  </thead>\n",
       "  <tbody>\n",
       "    <tr>\n",
       "      <th>4148</th>\n",
       "      <td>Luxembourg</td>\n",
       "      <td>2020</td>\n",
       "      <td>111751.314751</td>\n",
       "    </tr>\n",
       "  </tbody>\n",
       "</table>\n",
       "</div>"
      ],
      "text/plain": [
       "         Country  Year  GDP_Per_Capita\n",
       "4148  Luxembourg  2020   111751.314751"
      ]
     },
     "execution_count": 33,
     "metadata": {},
     "output_type": "execute_result"
    }
   ],
   "source": [
    "my_value = 111751.3147513618\n",
    "results = gdp_df_2020.loc[gdp_df_2020[\"GDP_Per_Capita\"] == my_value]\n",
    "results.head()"
   ]
  },
  {
   "cell_type": "code",
   "execution_count": 34,
   "id": "5ffb6783",
   "metadata": {},
   "outputs": [
    {
     "data": {
      "text/plain": [
       "4148    Luxembourg\n",
       "Name: Country, dtype: object"
      ]
     },
     "execution_count": 34,
     "metadata": {},
     "output_type": "execute_result"
    }
   ],
   "source": [
    "gdp_df_2020.loc[gdp_df_2020.GDP_Per_Capita == gdp_df_2020['GDP_Per_Capita'].max()]['Country']"
   ]
  },
  {
   "cell_type": "code",
   "execution_count": 35,
   "id": "22ac23fe",
   "metadata": {},
   "outputs": [
    {
     "data": {
      "text/html": [
       "<div>\n",
       "<style scoped>\n",
       "    .dataframe tbody tr th:only-of-type {\n",
       "        vertical-align: middle;\n",
       "    }\n",
       "\n",
       "    .dataframe tbody tr th {\n",
       "        vertical-align: top;\n",
       "    }\n",
       "\n",
       "    .dataframe thead th {\n",
       "        text-align: right;\n",
       "    }\n",
       "</style>\n",
       "<table border=\"1\" class=\"dataframe\">\n",
       "  <thead>\n",
       "    <tr style=\"text-align: right;\">\n",
       "      <th></th>\n",
       "      <th>Country</th>\n",
       "      <th>Year</th>\n",
       "      <th>GDP_Per_Capita</th>\n",
       "    </tr>\n",
       "  </thead>\n",
       "  <tbody>\n",
       "    <tr>\n",
       "      <th>4148</th>\n",
       "      <td>Luxembourg</td>\n",
       "      <td>2020</td>\n",
       "      <td>111751.314751</td>\n",
       "    </tr>\n",
       "    <tr>\n",
       "      <th>6108</th>\n",
       "      <td>Singapore</td>\n",
       "      <td>2020</td>\n",
       "      <td>94910.101431</td>\n",
       "    </tr>\n",
       "    <tr>\n",
       "      <th>3279</th>\n",
       "      <td>Ireland</td>\n",
       "      <td>2020</td>\n",
       "      <td>91356.855054</td>\n",
       "    </tr>\n",
       "    <tr>\n",
       "      <th>5746</th>\n",
       "      <td>Qatar</td>\n",
       "      <td>2020</td>\n",
       "      <td>89019.069857</td>\n",
       "    </tr>\n",
       "    <tr>\n",
       "      <th>681</th>\n",
       "      <td>Bermuda</td>\n",
       "      <td>2020</td>\n",
       "      <td>76117.804744</td>\n",
       "    </tr>\n",
       "    <tr>\n",
       "      <th>...</th>\n",
       "      <td>...</td>\n",
       "      <td>...</td>\n",
       "      <td>...</td>\n",
       "    </tr>\n",
       "    <tr>\n",
       "      <th>5074</th>\n",
       "      <td>Niger</td>\n",
       "      <td>2020</td>\n",
       "      <td>1214.546556</td>\n",
       "    </tr>\n",
       "    <tr>\n",
       "      <th>6273</th>\n",
       "      <td>Somalia</td>\n",
       "      <td>2020</td>\n",
       "      <td>1127.418534</td>\n",
       "    </tr>\n",
       "    <tr>\n",
       "      <th>1630</th>\n",
       "      <td>Dem. Rep. Congo</td>\n",
       "      <td>2020</td>\n",
       "      <td>1044.071214</td>\n",
       "    </tr>\n",
       "    <tr>\n",
       "      <th>1217</th>\n",
       "      <td>Central African Republic</td>\n",
       "      <td>2020</td>\n",
       "      <td>847.765012</td>\n",
       "    </tr>\n",
       "    <tr>\n",
       "      <th>973</th>\n",
       "      <td>Burundi</td>\n",
       "      <td>2020</td>\n",
       "      <td>711.355263</td>\n",
       "    </tr>\n",
       "  </tbody>\n",
       "</table>\n",
       "<p>242 rows × 3 columns</p>\n",
       "</div>"
      ],
      "text/plain": [
       "                       Country  Year  GDP_Per_Capita\n",
       "4148                Luxembourg  2020   111751.314751\n",
       "6108                 Singapore  2020    94910.101431\n",
       "3279                   Ireland  2020    91356.855054\n",
       "5746                     Qatar  2020    89019.069857\n",
       "681                    Bermuda  2020    76117.804744\n",
       "...                        ...   ...             ...\n",
       "5074                     Niger  2020     1214.546556\n",
       "6273                   Somalia  2020     1127.418534\n",
       "1630           Dem. Rep. Congo  2020     1044.071214\n",
       "1217  Central African Republic  2020      847.765012\n",
       "973                    Burundi  2020      711.355263\n",
       "\n",
       "[242 rows x 3 columns]"
      ]
     },
     "execution_count": 35,
     "metadata": {},
     "output_type": "execute_result"
    }
   ],
   "source": [
    "gdp_df_2020.sort_values(by = 'GDP_Per_Capita', ascending = False)"
   ]
  },
  {
   "cell_type": "code",
   "execution_count": 36,
   "id": "d257f232",
   "metadata": {},
   "outputs": [],
   "source": [
    "## 3 diffrent ways to get the same result above."
   ]
  },
  {
   "cell_type": "code",
   "execution_count": null,
   "id": "dce78e8a",
   "metadata": {},
   "outputs": [],
   "source": [
    "# nlargest() and nsmallest() are ways to get min and max."
   ]
  },
  {
   "cell_type": "code",
   "execution_count": 37,
   "id": "01c93929",
   "metadata": {},
   "outputs": [],
   "source": [
    "gdp_df_lux = gdp_df_clean[gdp_df_clean['Country'] == 'Luxembourg']"
   ]
  },
  {
   "cell_type": "code",
   "execution_count": 38,
   "id": "3cf48d17",
   "metadata": {},
   "outputs": [
    {
     "data": {
      "text/plain": [
       "<Axes: xlabel='Year'>"
      ]
     },
     "execution_count": 38,
     "metadata": {},
     "output_type": "execute_result"
    },
    {
     "data": {
      "image/png": "[encoded data removed]",
      "text/plain": [
       "<Figure size 640x480 with 1 Axes>"
      ]
     },
     "metadata": {},
     "output_type": "display_data"
    }
   ],
   "source": [
    "gdp_df_lux.plot('Year')"
   ]
  },
  {
   "cell_type": "markdown",
   "id": "e7dedd80",
   "metadata": {},
   "source": [
    "13. Which country had the lowest GDP per capita in 2020? \n",
    "Create a plot showing how this country's GDP per capita has changed over the timespan of the dataset. \n",
    "\n",
    "**Bonus question:** Is it true in general that coutries had a higher GDP per capita in 2020 than in 1990? \n",
    "    Which countries had lower GDP per capita in 2020 than in 1990?"
   ]
  },
  {
   "cell_type": "code",
   "execution_count": 39,
   "id": "58515926",
   "metadata": {},
   "outputs": [
    {
     "data": {
      "text/html": [
       "<div>\n",
       "<style scoped>\n",
       "    .dataframe tbody tr th:only-of-type {\n",
       "        vertical-align: middle;\n",
       "    }\n",
       "\n",
       "    .dataframe tbody tr th {\n",
       "        vertical-align: top;\n",
       "    }\n",
       "\n",
       "    .dataframe thead th {\n",
       "        text-align: right;\n",
       "    }\n",
       "</style>\n",
       "<table border=\"1\" class=\"dataframe\">\n",
       "  <thead>\n",
       "    <tr style=\"text-align: right;\">\n",
       "      <th></th>\n",
       "      <th>Country</th>\n",
       "      <th>Year</th>\n",
       "      <th>GDP_Per_Capita</th>\n",
       "    </tr>\n",
       "  </thead>\n",
       "  <tbody>\n",
       "    <tr>\n",
       "      <th>973</th>\n",
       "      <td>Burundi</td>\n",
       "      <td>2020</td>\n",
       "      <td>711.355263</td>\n",
       "    </tr>\n",
       "    <tr>\n",
       "      <th>1217</th>\n",
       "      <td>Central African Republic</td>\n",
       "      <td>2020</td>\n",
       "      <td>847.765012</td>\n",
       "    </tr>\n",
       "    <tr>\n",
       "      <th>1630</th>\n",
       "      <td>Dem. Rep. Congo</td>\n",
       "      <td>2020</td>\n",
       "      <td>1044.071214</td>\n",
       "    </tr>\n",
       "    <tr>\n",
       "      <th>6273</th>\n",
       "      <td>Somalia</td>\n",
       "      <td>2020</td>\n",
       "      <td>1127.418534</td>\n",
       "    </tr>\n",
       "    <tr>\n",
       "      <th>5074</th>\n",
       "      <td>Niger</td>\n",
       "      <td>2020</td>\n",
       "      <td>1214.546556</td>\n",
       "    </tr>\n",
       "    <tr>\n",
       "      <th>...</th>\n",
       "      <td>...</td>\n",
       "      <td>...</td>\n",
       "      <td>...</td>\n",
       "    </tr>\n",
       "    <tr>\n",
       "      <th>681</th>\n",
       "      <td>Bermuda</td>\n",
       "      <td>2020</td>\n",
       "      <td>76117.804744</td>\n",
       "    </tr>\n",
       "    <tr>\n",
       "      <th>5746</th>\n",
       "      <td>Qatar</td>\n",
       "      <td>2020</td>\n",
       "      <td>89019.069857</td>\n",
       "    </tr>\n",
       "    <tr>\n",
       "      <th>3279</th>\n",
       "      <td>Ireland</td>\n",
       "      <td>2020</td>\n",
       "      <td>91356.855054</td>\n",
       "    </tr>\n",
       "    <tr>\n",
       "      <th>6108</th>\n",
       "      <td>Singapore</td>\n",
       "      <td>2020</td>\n",
       "      <td>94910.101431</td>\n",
       "    </tr>\n",
       "    <tr>\n",
       "      <th>4148</th>\n",
       "      <td>Luxembourg</td>\n",
       "      <td>2020</td>\n",
       "      <td>111751.314751</td>\n",
       "    </tr>\n",
       "  </tbody>\n",
       "</table>\n",
       "<p>242 rows × 3 columns</p>\n",
       "</div>"
      ],
      "text/plain": [
       "                       Country  Year  GDP_Per_Capita\n",
       "973                    Burundi  2020      711.355263\n",
       "1217  Central African Republic  2020      847.765012\n",
       "1630           Dem. Rep. Congo  2020     1044.071214\n",
       "6273                   Somalia  2020     1127.418534\n",
       "5074                     Niger  2020     1214.546556\n",
       "...                        ...   ...             ...\n",
       "681                    Bermuda  2020    76117.804744\n",
       "5746                     Qatar  2020    89019.069857\n",
       "3279                   Ireland  2020    91356.855054\n",
       "6108                 Singapore  2020    94910.101431\n",
       "4148                Luxembourg  2020   111751.314751\n",
       "\n",
       "[242 rows x 3 columns]"
      ]
     },
     "execution_count": 39,
     "metadata": {},
     "output_type": "execute_result"
    }
   ],
   "source": [
    "gdp_df_2020.sort_values(by = 'GDP_Per_Capita')"
   ]
  },
  {
   "cell_type": "code",
   "execution_count": 40,
   "id": "534270ae",
   "metadata": {},
   "outputs": [],
   "source": [
    "gdp_df_bru = gdp_df_clean[gdp_df_clean['Country'] == 'Burundi']"
   ]
  },
  {
   "cell_type": "code",
   "execution_count": 41,
   "id": "eaf126bb",
   "metadata": {},
   "outputs": [
    {
     "data": {
      "text/plain": [
       "<Axes: xlabel='Year'>"
      ]
     },
     "execution_count": 41,
     "metadata": {},
     "output_type": "execute_result"
    },
    {
     "data": {
      "image/png": "[encoded data removed]",
      "text/plain": [
       "<Figure size 640x480 with 1 Axes>"
      ]
     },
     "metadata": {},
     "output_type": "display_data"
    }
   ],
   "source": [
    "gdp_df_bru.plot('Year')"
   ]
  },
  {
   "cell_type": "markdown",
   "id": "b279860c",
   "metadata": {},
   "source": [
    "14. Read in the internet use dataset into a DataFrame named `internet_df`. You will likely get errors when doing this. Check the arguments for the read_csv function to find ones that can help correct the errors (https://pandas.pydata.org/docs/reference/api/pandas.read_csv.html) Once you are able to read it in, take per a look at the top and bottom few rows to make sure that it has been read in correctly. Also, check the datatypes of the columns."
   ]
  },
  {
   "cell_type": "code",
   "execution_count": 42,
   "id": "80b1c658",
   "metadata": {},
   "outputs": [],
   "source": [
    "int_use = pd.read_csv('../data/internet_use.csv', nrows = 6084)"
   ]
  },
  {
   "cell_type": "code",
   "execution_count": 43,
   "id": "d939ff10",
   "metadata": {},
   "outputs": [
    {
     "data": {
      "text/html": [
       "<div>\n",
       "<style scoped>\n",
       "    .dataframe tbody tr th:only-of-type {\n",
       "        vertical-align: middle;\n",
       "    }\n",
       "\n",
       "    .dataframe tbody tr th {\n",
       "        vertical-align: top;\n",
       "    }\n",
       "\n",
       "    .dataframe thead th {\n",
       "        text-align: right;\n",
       "    }\n",
       "</style>\n",
       "<table border=\"1\" class=\"dataframe\">\n",
       "  <thead>\n",
       "    <tr style=\"text-align: right;\">\n",
       "      <th></th>\n",
       "      <th>Country or Area</th>\n",
       "      <th>Year</th>\n",
       "      <th>Value</th>\n",
       "      <th>Value Footnotes</th>\n",
       "    </tr>\n",
       "  </thead>\n",
       "  <tbody>\n",
       "    <tr>\n",
       "      <th>0</th>\n",
       "      <td>Afghanistan</td>\n",
       "      <td>2019</td>\n",
       "      <td>17.60</td>\n",
       "      <td>1</td>\n",
       "    </tr>\n",
       "    <tr>\n",
       "      <th>1</th>\n",
       "      <td>Afghanistan</td>\n",
       "      <td>2018</td>\n",
       "      <td>16.80</td>\n",
       "      <td>2</td>\n",
       "    </tr>\n",
       "    <tr>\n",
       "      <th>2</th>\n",
       "      <td>Afghanistan</td>\n",
       "      <td>2017</td>\n",
       "      <td>13.50</td>\n",
       "      <td>3</td>\n",
       "    </tr>\n",
       "    <tr>\n",
       "      <th>3</th>\n",
       "      <td>Afghanistan</td>\n",
       "      <td>2016</td>\n",
       "      <td>11.00</td>\n",
       "      <td>4</td>\n",
       "    </tr>\n",
       "    <tr>\n",
       "      <th>4</th>\n",
       "      <td>Afghanistan</td>\n",
       "      <td>2015</td>\n",
       "      <td>8.26</td>\n",
       "      <td>4</td>\n",
       "    </tr>\n",
       "  </tbody>\n",
       "</table>\n",
       "</div>"
      ],
      "text/plain": [
       "  Country or Area  Year  Value Value Footnotes\n",
       "0     Afghanistan  2019  17.60               1\n",
       "1     Afghanistan  2018  16.80               2\n",
       "2     Afghanistan  2017  13.50               3\n",
       "3     Afghanistan  2016  11.00               4\n",
       "4     Afghanistan  2015   8.26               4"
      ]
     },
     "execution_count": 43,
     "metadata": {},
     "output_type": "execute_result"
    }
   ],
   "source": [
    "int_use.head()"
   ]
  },
  {
   "cell_type": "code",
   "execution_count": 44,
   "id": "7db538a1",
   "metadata": {},
   "outputs": [
    {
     "name": "stdout",
     "output_type": "stream",
     "text": [
      "<class 'pandas.core.frame.DataFrame'>\n",
      "RangeIndex: 6084 entries, 0 to 6083\n",
      "Data columns (total 4 columns):\n",
      " #   Column           Non-Null Count  Dtype  \n",
      "---  ------           --------------  -----  \n",
      " 0   Country or Area  6084 non-null   object \n",
      " 1   Year             6084 non-null   object \n",
      " 2   Value            6083 non-null   float64\n",
      " 3   Value Footnotes  2826 non-null   object \n",
      "dtypes: float64(1), object(3)\n",
      "memory usage: 190.3+ KB\n"
     ]
    }
   ],
   "source": [
    "int_use.info()"
   ]
  },
  {
   "cell_type": "markdown",
   "id": "ba8b0307",
   "metadata": {},
   "source": [
    "15. Drop the `Value Footnotes` column and rename the remaining three to 'Country', 'Year', and 'Internet_Users_Pct'."
   ]
  },
  {
   "cell_type": "code",
   "execution_count": 45,
   "id": "ab0003c1",
   "metadata": {},
   "outputs": [],
   "source": [
    "int_use = int_use.drop('Value Footnotes', axis=1)\n",
    "int_use.columns =['Country', 'Year', 'Internet_Users_Pct']"
   ]
  },
  {
   "cell_type": "code",
   "execution_count": 46,
   "id": "b3d7fbb1",
   "metadata": {},
   "outputs": [
    {
     "data": {
      "text/html": [
       "<div>\n",
       "<style scoped>\n",
       "    .dataframe tbody tr th:only-of-type {\n",
       "        vertical-align: middle;\n",
       "    }\n",
       "\n",
       "    .dataframe tbody tr th {\n",
       "        vertical-align: top;\n",
       "    }\n",
       "\n",
       "    .dataframe thead th {\n",
       "        text-align: right;\n",
       "    }\n",
       "</style>\n",
       "<table border=\"1\" class=\"dataframe\">\n",
       "  <thead>\n",
       "    <tr style=\"text-align: right;\">\n",
       "      <th></th>\n",
       "      <th>Country</th>\n",
       "      <th>Year</th>\n",
       "      <th>Internet_Users_Pct</th>\n",
       "    </tr>\n",
       "  </thead>\n",
       "  <tbody>\n",
       "    <tr>\n",
       "      <th>0</th>\n",
       "      <td>Afghanistan</td>\n",
       "      <td>2019</td>\n",
       "      <td>17.60</td>\n",
       "    </tr>\n",
       "    <tr>\n",
       "      <th>1</th>\n",
       "      <td>Afghanistan</td>\n",
       "      <td>2018</td>\n",
       "      <td>16.80</td>\n",
       "    </tr>\n",
       "    <tr>\n",
       "      <th>2</th>\n",
       "      <td>Afghanistan</td>\n",
       "      <td>2017</td>\n",
       "      <td>13.50</td>\n",
       "    </tr>\n",
       "    <tr>\n",
       "      <th>3</th>\n",
       "      <td>Afghanistan</td>\n",
       "      <td>2016</td>\n",
       "      <td>11.00</td>\n",
       "    </tr>\n",
       "    <tr>\n",
       "      <th>4</th>\n",
       "      <td>Afghanistan</td>\n",
       "      <td>2015</td>\n",
       "      <td>8.26</td>\n",
       "    </tr>\n",
       "  </tbody>\n",
       "</table>\n",
       "</div>"
      ],
      "text/plain": [
       "       Country  Year  Internet_Users_Pct\n",
       "0  Afghanistan  2019               17.60\n",
       "1  Afghanistan  2018               16.80\n",
       "2  Afghanistan  2017               13.50\n",
       "3  Afghanistan  2016               11.00\n",
       "4  Afghanistan  2015                8.26"
      ]
     },
     "execution_count": 46,
     "metadata": {},
     "output_type": "execute_result"
    }
   ],
   "source": [
    "int_use.head()"
   ]
  },
  {
   "cell_type": "markdown",
   "id": "43a25238",
   "metadata": {},
   "source": [
    "16. Look at the number of observations in this dataset per year. What do you notice?"
   ]
  },
  {
   "cell_type": "code",
   "execution_count": 47,
   "id": "7fc71e5e",
   "metadata": {},
   "outputs": [
    {
     "data": {
      "text/plain": [
       "Year\n",
       "1990        226\n",
       "2007        217\n",
       "2011        214\n",
       "2008        214\n",
       "2009        214\n",
       "2002        214\n",
       "2006        212\n",
       "2001        212\n",
       "2005        212\n",
       "2004        210\n",
       "2000        210\n",
       "2010        209\n",
       "2012        209\n",
       "2003        208\n",
       "1999        207\n",
       "2016        206\n",
       "2017        205\n",
       "2014        204\n",
       "2015        203\n",
       "2013        203\n",
       "1998        195\n",
       "1997        188\n",
       "2021        186\n",
       "2020        186\n",
       "2019        185\n",
       "2022        184\n",
       "1996        177\n",
       "2018        174\n",
       "1995        141\n",
       "1994         92\n",
       "1993         66\n",
       "1992         50\n",
       "1991         39\n",
       "2023         11\n",
       "Footnote      1\n",
       "Name: count, dtype: int64"
      ]
     },
     "execution_count": 47,
     "metadata": {},
     "output_type": "execute_result"
    }
   ],
   "source": [
    "int_use['Year'].value_counts()"
   ]
  },
  {
   "cell_type": "code",
   "execution_count": 48,
   "id": "5b523ba7",
   "metadata": {},
   "outputs": [],
   "source": [
    "## 2023, 1991,1992,1993,1994 all are much lower."
   ]
  },
  {
   "cell_type": "markdown",
   "id": "b21ce924",
   "metadata": {},
   "source": [
    "17. What is the first year to have a non-zero internet users percentage value?"
   ]
  },
  {
   "cell_type": "code",
   "execution_count": 49,
   "id": "fdbd5ca3",
   "metadata": {},
   "outputs": [],
   "source": [
    "int_use = int_use[int_use['Internet_Users_Pct'] > 0]\n",
    "\n",
    "##.sort_values(by = 'Year')"
   ]
  },
  {
   "cell_type": "code",
   "execution_count": 50,
   "id": "3edd9050",
   "metadata": {},
   "outputs": [
    {
     "data": {
      "text/html": [
       "<div>\n",
       "<style scoped>\n",
       "    .dataframe tbody tr th:only-of-type {\n",
       "        vertical-align: middle;\n",
       "    }\n",
       "\n",
       "    .dataframe tbody tr th {\n",
       "        vertical-align: top;\n",
       "    }\n",
       "\n",
       "    .dataframe thead th {\n",
       "        text-align: right;\n",
       "    }\n",
       "</style>\n",
       "<table border=\"1\" class=\"dataframe\">\n",
       "  <thead>\n",
       "    <tr style=\"text-align: right;\">\n",
       "      <th></th>\n",
       "      <th>Country</th>\n",
       "      <th>Year</th>\n",
       "      <th>Internet_Users_Pct</th>\n",
       "    </tr>\n",
       "  </thead>\n",
       "  <tbody>\n",
       "    <tr>\n",
       "      <th>0</th>\n",
       "      <td>Afghanistan</td>\n",
       "      <td>2019</td>\n",
       "      <td>17.60</td>\n",
       "    </tr>\n",
       "    <tr>\n",
       "      <th>1</th>\n",
       "      <td>Afghanistan</td>\n",
       "      <td>2018</td>\n",
       "      <td>16.80</td>\n",
       "    </tr>\n",
       "    <tr>\n",
       "      <th>2</th>\n",
       "      <td>Afghanistan</td>\n",
       "      <td>2017</td>\n",
       "      <td>13.50</td>\n",
       "    </tr>\n",
       "    <tr>\n",
       "      <th>3</th>\n",
       "      <td>Afghanistan</td>\n",
       "      <td>2016</td>\n",
       "      <td>11.00</td>\n",
       "    </tr>\n",
       "    <tr>\n",
       "      <th>4</th>\n",
       "      <td>Afghanistan</td>\n",
       "      <td>2015</td>\n",
       "      <td>8.26</td>\n",
       "    </tr>\n",
       "  </tbody>\n",
       "</table>\n",
       "</div>"
      ],
      "text/plain": [
       "       Country  Year  Internet_Users_Pct\n",
       "0  Afghanistan  2019               17.60\n",
       "1  Afghanistan  2018               16.80\n",
       "2  Afghanistan  2017               13.50\n",
       "3  Afghanistan  2016               11.00\n",
       "4  Afghanistan  2015                8.26"
      ]
     },
     "execution_count": 50,
     "metadata": {},
     "output_type": "execute_result"
    }
   ],
   "source": [
    "int_use.head()"
   ]
  },
  {
   "cell_type": "code",
   "execution_count": 51,
   "id": "49d5c3fd",
   "metadata": {},
   "outputs": [
    {
     "data": {
      "text/html": [
       "<div>\n",
       "<style scoped>\n",
       "    .dataframe tbody tr th:only-of-type {\n",
       "        vertical-align: middle;\n",
       "    }\n",
       "\n",
       "    .dataframe tbody tr th {\n",
       "        vertical-align: top;\n",
       "    }\n",
       "\n",
       "    .dataframe thead th {\n",
       "        text-align: right;\n",
       "    }\n",
       "</style>\n",
       "<table border=\"1\" class=\"dataframe\">\n",
       "  <thead>\n",
       "    <tr style=\"text-align: right;\">\n",
       "      <th></th>\n",
       "      <th>Country</th>\n",
       "      <th>Year</th>\n",
       "      <th>Internet_Users_Pct</th>\n",
       "    </tr>\n",
       "  </thead>\n",
       "  <tbody>\n",
       "    <tr>\n",
       "      <th>1570</th>\n",
       "      <td>Denmark</td>\n",
       "      <td>1990</td>\n",
       "      <td>0.097277</td>\n",
       "    </tr>\n",
       "    <tr>\n",
       "      <th>2892</th>\n",
       "      <td>Japan</td>\n",
       "      <td>1990</td>\n",
       "      <td>0.020294</td>\n",
       "    </tr>\n",
       "    <tr>\n",
       "      <th>306</th>\n",
       "      <td>Australia</td>\n",
       "      <td>1990</td>\n",
       "      <td>0.585095</td>\n",
       "    </tr>\n",
       "    <tr>\n",
       "      <th>2034</th>\n",
       "      <td>France</td>\n",
       "      <td>1990</td>\n",
       "      <td>0.052778</td>\n",
       "    </tr>\n",
       "    <tr>\n",
       "      <th>339</th>\n",
       "      <td>Austria</td>\n",
       "      <td>1990</td>\n",
       "      <td>0.130369</td>\n",
       "    </tr>\n",
       "    <tr>\n",
       "      <th>...</th>\n",
       "      <td>...</td>\n",
       "      <td>...</td>\n",
       "      <td>...</td>\n",
       "    </tr>\n",
       "    <tr>\n",
       "      <th>427</th>\n",
       "      <td>Bangladesh</td>\n",
       "      <td>2023</td>\n",
       "      <td>44.502700</td>\n",
       "    </tr>\n",
       "    <tr>\n",
       "      <th>677</th>\n",
       "      <td>Bosnia and Herzegovina</td>\n",
       "      <td>2023</td>\n",
       "      <td>83.377200</td>\n",
       "    </tr>\n",
       "    <tr>\n",
       "      <th>1656</th>\n",
       "      <td>Ecuador</td>\n",
       "      <td>2023</td>\n",
       "      <td>72.694300</td>\n",
       "    </tr>\n",
       "    <tr>\n",
       "      <th>1537</th>\n",
       "      <td>Denmark</td>\n",
       "      <td>2023</td>\n",
       "      <td>98.775600</td>\n",
       "    </tr>\n",
       "    <tr>\n",
       "      <th>3057</th>\n",
       "      <td>Kuwait</td>\n",
       "      <td>2023</td>\n",
       "      <td>99.747300</td>\n",
       "    </tr>\n",
       "  </tbody>\n",
       "</table>\n",
       "<p>5803 rows × 3 columns</p>\n",
       "</div>"
      ],
      "text/plain": [
       "                     Country  Year  Internet_Users_Pct\n",
       "1570                 Denmark  1990            0.097277\n",
       "2892                   Japan  1990            0.020294\n",
       "306                Australia  1990            0.585095\n",
       "2034                  France  1990            0.052778\n",
       "339                  Austria  1990            0.130369\n",
       "...                      ...   ...                 ...\n",
       "427               Bangladesh  2023           44.502700\n",
       "677   Bosnia and Herzegovina  2023           83.377200\n",
       "1656                 Ecuador  2023           72.694300\n",
       "1537                 Denmark  2023           98.775600\n",
       "3057                  Kuwait  2023           99.747300\n",
       "\n",
       "[5803 rows x 3 columns]"
      ]
     },
     "execution_count": 51,
     "metadata": {},
     "output_type": "execute_result"
    }
   ],
   "source": [
    "int_use.sort_values(by = 'Year')"
   ]
  },
  {
   "cell_type": "markdown",
   "id": "d4542121",
   "metadata": {},
   "source": [
    "18. How does the distribution of internet users percent differ for 2000 and 2014?"
   ]
  },
  {
   "cell_type": "code",
   "execution_count": 52,
   "id": "859e6bfc",
   "metadata": {},
   "outputs": [],
   "source": [
    "int_use_18 = int_use.loc[int_use['Year'].isin(['2000','2014'])]"
   ]
  },
  {
   "cell_type": "code",
   "execution_count": 53,
   "id": "375bd18d",
   "metadata": {},
   "outputs": [
    {
     "data": {
      "text/html": [
       "<div>\n",
       "<style scoped>\n",
       "    .dataframe tbody tr th:only-of-type {\n",
       "        vertical-align: middle;\n",
       "    }\n",
       "\n",
       "    .dataframe tbody tr th {\n",
       "        vertical-align: top;\n",
       "    }\n",
       "\n",
       "    .dataframe thead th {\n",
       "        text-align: right;\n",
       "    }\n",
       "</style>\n",
       "<table border=\"1\" class=\"dataframe\">\n",
       "  <thead>\n",
       "    <tr style=\"text-align: right;\">\n",
       "      <th></th>\n",
       "      <th>Country</th>\n",
       "      <th>Year</th>\n",
       "      <th>Internet_Users_Pct</th>\n",
       "    </tr>\n",
       "  </thead>\n",
       "  <tbody>\n",
       "    <tr>\n",
       "      <th>5</th>\n",
       "      <td>Afghanistan</td>\n",
       "      <td>2014</td>\n",
       "      <td>7.000000</td>\n",
       "    </tr>\n",
       "    <tr>\n",
       "      <th>28</th>\n",
       "      <td>Albania</td>\n",
       "      <td>2014</td>\n",
       "      <td>54.300000</td>\n",
       "    </tr>\n",
       "    <tr>\n",
       "      <th>42</th>\n",
       "      <td>Albania</td>\n",
       "      <td>2000</td>\n",
       "      <td>0.114097</td>\n",
       "    </tr>\n",
       "    <tr>\n",
       "      <th>57</th>\n",
       "      <td>Algeria</td>\n",
       "      <td>2014</td>\n",
       "      <td>29.500000</td>\n",
       "    </tr>\n",
       "    <tr>\n",
       "      <th>71</th>\n",
       "      <td>Algeria</td>\n",
       "      <td>2000</td>\n",
       "      <td>0.491706</td>\n",
       "    </tr>\n",
       "  </tbody>\n",
       "</table>\n",
       "</div>"
      ],
      "text/plain": [
       "        Country  Year  Internet_Users_Pct\n",
       "5   Afghanistan  2014            7.000000\n",
       "28      Albania  2014           54.300000\n",
       "42      Albania  2000            0.114097\n",
       "57      Algeria  2014           29.500000\n",
       "71      Algeria  2000            0.491706"
      ]
     },
     "execution_count": 53,
     "metadata": {},
     "output_type": "execute_result"
    }
   ],
   "source": [
    "int_use_18.head()"
   ]
  },
  {
   "cell_type": "code",
   "execution_count": 54,
   "id": "ce8aa45d",
   "metadata": {},
   "outputs": [
    {
     "data": {
      "text/plain": [
       "<Axes: >"
      ]
     },
     "execution_count": 54,
     "metadata": {},
     "output_type": "execute_result"
    },
    {
     "data": {
      "image/png": "[encoded data removed]",
      "text/plain": [
       "<Figure size 640x480 with 1 Axes>"
      ]
     },
     "metadata": {},
     "output_type": "display_data"
    }
   ],
   "source": [
    "int_use_18.loc[int_use_18.Year == '2000'].Internet_Users_Pct.hist()"
   ]
  },
  {
   "cell_type": "code",
   "execution_count": 55,
   "id": "6261bd1b",
   "metadata": {},
   "outputs": [
    {
     "data": {
      "text/plain": [
       "<Axes: >"
      ]
     },
     "execution_count": 55,
     "metadata": {},
     "output_type": "execute_result"
    },
    {
     "data": {
      "image/png": "[encoded data removed]",
      "text/plain": [
       "<Figure size 640x480 with 1 Axes>"
      ]
     },
     "metadata": {},
     "output_type": "display_data"
    }
   ],
   "source": [
    "int_use_18.loc[int_use_18.Year == '2014'].Internet_Users_Pct.hist()"
   ]
  },
  {
   "cell_type": "markdown",
   "id": "8e779589",
   "metadata": {},
   "source": [
    "19. For how many countries was the percentage of internet users below 5% in 2014?"
   ]
  },
  {
   "cell_type": "code",
   "execution_count": 79,
   "id": "ecde0dcc",
   "metadata": {},
   "outputs": [],
   "source": [
    "int_use_19 = int_use.loc[int_use['Year'].isin([2014])]"
   ]
  },
  {
   "cell_type": "code",
   "execution_count": 80,
   "id": "4dc84b55",
   "metadata": {},
   "outputs": [
    {
     "data": {
      "text/html": [
       "<div>\n",
       "<style scoped>\n",
       "    .dataframe tbody tr th:only-of-type {\n",
       "        vertical-align: middle;\n",
       "    }\n",
       "\n",
       "    .dataframe tbody tr th {\n",
       "        vertical-align: top;\n",
       "    }\n",
       "\n",
       "    .dataframe thead th {\n",
       "        text-align: right;\n",
       "    }\n",
       "</style>\n",
       "<table border=\"1\" class=\"dataframe\">\n",
       "  <thead>\n",
       "    <tr style=\"text-align: right;\">\n",
       "      <th></th>\n",
       "      <th>Country</th>\n",
       "      <th>Year</th>\n",
       "      <th>Internet_Users_Pct</th>\n",
       "    </tr>\n",
       "  </thead>\n",
       "  <tbody>\n",
       "    <tr>\n",
       "      <th>5</th>\n",
       "      <td>Afghanistan</td>\n",
       "      <td>2014</td>\n",
       "      <td>7.0000</td>\n",
       "    </tr>\n",
       "    <tr>\n",
       "      <th>28</th>\n",
       "      <td>Albania</td>\n",
       "      <td>2014</td>\n",
       "      <td>54.3000</td>\n",
       "    </tr>\n",
       "    <tr>\n",
       "      <th>57</th>\n",
       "      <td>Algeria</td>\n",
       "      <td>2014</td>\n",
       "      <td>29.5000</td>\n",
       "    </tr>\n",
       "    <tr>\n",
       "      <th>87</th>\n",
       "      <td>Andorra</td>\n",
       "      <td>2014</td>\n",
       "      <td>86.1000</td>\n",
       "    </tr>\n",
       "    <tr>\n",
       "      <th>114</th>\n",
       "      <td>Angola</td>\n",
       "      <td>2014</td>\n",
       "      <td>21.3623</td>\n",
       "    </tr>\n",
       "  </tbody>\n",
       "</table>\n",
       "</div>"
      ],
      "text/plain": [
       "         Country  Year  Internet_Users_Pct\n",
       "5    Afghanistan  2014              7.0000\n",
       "28       Albania  2014             54.3000\n",
       "57       Algeria  2014             29.5000\n",
       "87       Andorra  2014             86.1000\n",
       "114       Angola  2014             21.3623"
      ]
     },
     "execution_count": 80,
     "metadata": {},
     "output_type": "execute_result"
    }
   ],
   "source": [
    "int_use_19.head()"
   ]
  },
  {
   "cell_type": "code",
   "execution_count": 58,
   "id": "1f45aa3c",
   "metadata": {},
   "outputs": [],
   "source": [
    "int_use_19 = int_use_19[int_use_19['Internet_Users_Pct'] < 5]"
   ]
  },
  {
   "cell_type": "code",
   "execution_count": 59,
   "id": "7e93afd1",
   "metadata": {},
   "outputs": [
    {
     "data": {
      "text/html": [
       "<div>\n",
       "<style scoped>\n",
       "    .dataframe tbody tr th:only-of-type {\n",
       "        vertical-align: middle;\n",
       "    }\n",
       "\n",
       "    .dataframe tbody tr th {\n",
       "        vertical-align: top;\n",
       "    }\n",
       "\n",
       "    .dataframe thead th {\n",
       "        text-align: right;\n",
       "    }\n",
       "</style>\n",
       "<table border=\"1\" class=\"dataframe\">\n",
       "  <thead>\n",
       "    <tr style=\"text-align: right;\">\n",
       "      <th></th>\n",
       "      <th>Country</th>\n",
       "      <th>Year</th>\n",
       "      <th>Internet_Users_Pct</th>\n",
       "    </tr>\n",
       "  </thead>\n",
       "  <tbody>\n",
       "  </tbody>\n",
       "</table>\n",
       "</div>"
      ],
      "text/plain": [
       "Empty DataFrame\n",
       "Columns: [Country, Year, Internet_Users_Pct]\n",
       "Index: []"
      ]
     },
     "execution_count": 59,
     "metadata": {},
     "output_type": "execute_result"
    }
   ],
   "source": [
    "int_use_19.head()"
   ]
  },
  {
   "cell_type": "code",
   "execution_count": 60,
   "id": "4009aa15",
   "metadata": {},
   "outputs": [
    {
     "data": {
      "text/plain": [
       "0"
      ]
     },
     "execution_count": 60,
     "metadata": {},
     "output_type": "execute_result"
    }
   ],
   "source": [
    "int_use_19['Country'].count()"
   ]
  },
  {
   "cell_type": "code",
   "execution_count": 61,
   "id": "a831c701",
   "metadata": {},
   "outputs": [
    {
     "data": {
      "text/plain": [
       "0"
      ]
     },
     "execution_count": 61,
     "metadata": {},
     "output_type": "execute_result"
    }
   ],
   "source": [
    "int_use_19.Country.count()"
   ]
  },
  {
   "cell_type": "markdown",
   "id": "95a22ee5",
   "metadata": {},
   "source": [
    "20. Merge the two DataFrames to one. \n",
    "Do this in a way that keeps **all rows** from each of the two DataFrames. \n",
    "Call the new DataFrame `gdp_and_internet_use`. \n",
    "Look at the first and last few rows to confirm that it merged correctly."
   ]
  },
  {
   "cell_type": "code",
   "execution_count": 62,
   "id": "7798fe18",
   "metadata": {},
   "outputs": [],
   "source": [
    "int_use.Year = int_use.Year.astype('int')"
   ]
  },
  {
   "cell_type": "code",
   "execution_count": 63,
   "id": "7ab0ce0e",
   "metadata": {},
   "outputs": [],
   "source": [
    "gdp_and_internet_use = pd.merge(int_use, gdp_df_clean, how = 'outer',on = ['Country', 'Year'])"
   ]
  },
  {
   "cell_type": "code",
   "execution_count": 64,
   "id": "17e1bd69",
   "metadata": {},
   "outputs": [
    {
     "data": {
      "text/html": [
       "<div>\n",
       "<style scoped>\n",
       "    .dataframe tbody tr th:only-of-type {\n",
       "        vertical-align: middle;\n",
       "    }\n",
       "\n",
       "    .dataframe tbody tr th {\n",
       "        vertical-align: top;\n",
       "    }\n",
       "\n",
       "    .dataframe thead th {\n",
       "        text-align: right;\n",
       "    }\n",
       "</style>\n",
       "<table border=\"1\" class=\"dataframe\">\n",
       "  <thead>\n",
       "    <tr style=\"text-align: right;\">\n",
       "      <th></th>\n",
       "      <th>Country</th>\n",
       "      <th>Year</th>\n",
       "      <th>Internet_Users_Pct</th>\n",
       "      <th>GDP_Per_Capita</th>\n",
       "    </tr>\n",
       "  </thead>\n",
       "  <tbody>\n",
       "    <tr>\n",
       "      <th>0</th>\n",
       "      <td>Afghanistan</td>\n",
       "      <td>2019</td>\n",
       "      <td>17.60</td>\n",
       "      <td>2079.921861</td>\n",
       "    </tr>\n",
       "    <tr>\n",
       "      <th>1</th>\n",
       "      <td>Afghanistan</td>\n",
       "      <td>2018</td>\n",
       "      <td>16.80</td>\n",
       "      <td>2060.698973</td>\n",
       "    </tr>\n",
       "    <tr>\n",
       "      <th>2</th>\n",
       "      <td>Afghanistan</td>\n",
       "      <td>2017</td>\n",
       "      <td>13.50</td>\n",
       "      <td>2096.093111</td>\n",
       "    </tr>\n",
       "    <tr>\n",
       "      <th>3</th>\n",
       "      <td>Afghanistan</td>\n",
       "      <td>2016</td>\n",
       "      <td>11.00</td>\n",
       "      <td>2101.422187</td>\n",
       "    </tr>\n",
       "    <tr>\n",
       "      <th>4</th>\n",
       "      <td>Afghanistan</td>\n",
       "      <td>2015</td>\n",
       "      <td>8.26</td>\n",
       "      <td>2108.714173</td>\n",
       "    </tr>\n",
       "  </tbody>\n",
       "</table>\n",
       "</div>"
      ],
      "text/plain": [
       "       Country  Year  Internet_Users_Pct  GDP_Per_Capita\n",
       "0  Afghanistan  2019               17.60     2079.921861\n",
       "1  Afghanistan  2018               16.80     2060.698973\n",
       "2  Afghanistan  2017               13.50     2096.093111\n",
       "3  Afghanistan  2016               11.00     2101.422187\n",
       "4  Afghanistan  2015                8.26     2108.714173"
      ]
     },
     "execution_count": 64,
     "metadata": {},
     "output_type": "execute_result"
    }
   ],
   "source": [
    "gdp_and_internet_use.head()"
   ]
  },
  {
   "cell_type": "markdown",
   "id": "f42fa7fc",
   "metadata": {},
   "source": [
    "21. Find the three countries with the highest internet users percentage in 2014. \n",
    "Use a seaborn FacetGrid (https://seaborn.pydata.org/generated/seaborn.FacetGrid.html) to compare how the GDP per capita has changed over time for these three countries. What do you notice?"
   ]
  },
  {
   "cell_type": "code",
   "execution_count": 65,
   "id": "b79fe63a",
   "metadata": {},
   "outputs": [],
   "source": [
    "gdp_and_internet_use_21 = gdp_and_internet_use[gdp_and_internet_use[\"Year\"] == 2014]"
   ]
  },
  {
   "cell_type": "code",
   "execution_count": 66,
   "id": "c58a8b4f",
   "metadata": {},
   "outputs": [
    {
     "data": {
      "text/html": [
       "<div>\n",
       "<style scoped>\n",
       "    .dataframe tbody tr th:only-of-type {\n",
       "        vertical-align: middle;\n",
       "    }\n",
       "\n",
       "    .dataframe tbody tr th {\n",
       "        vertical-align: top;\n",
       "    }\n",
       "\n",
       "    .dataframe thead th {\n",
       "        text-align: right;\n",
       "    }\n",
       "</style>\n",
       "<table border=\"1\" class=\"dataframe\">\n",
       "  <thead>\n",
       "    <tr style=\"text-align: right;\">\n",
       "      <th></th>\n",
       "      <th>Country</th>\n",
       "      <th>Year</th>\n",
       "      <th>Internet_Users_Pct</th>\n",
       "      <th>GDP_Per_Capita</th>\n",
       "    </tr>\n",
       "  </thead>\n",
       "  <tbody>\n",
       "    <tr>\n",
       "      <th>5</th>\n",
       "      <td>Afghanistan</td>\n",
       "      <td>2014</td>\n",
       "      <td>7.0000</td>\n",
       "      <td>2144.449634</td>\n",
       "    </tr>\n",
       "    <tr>\n",
       "      <th>27</th>\n",
       "      <td>Albania</td>\n",
       "      <td>2014</td>\n",
       "      <td>54.3000</td>\n",
       "      <td>11586.817446</td>\n",
       "    </tr>\n",
       "    <tr>\n",
       "      <th>55</th>\n",
       "      <td>Algeria</td>\n",
       "      <td>2014</td>\n",
       "      <td>29.5000</td>\n",
       "      <td>11561.259795</td>\n",
       "    </tr>\n",
       "    <tr>\n",
       "      <th>83</th>\n",
       "      <td>Andorra</td>\n",
       "      <td>2014</td>\n",
       "      <td>86.1000</td>\n",
       "      <td>NaN</td>\n",
       "    </tr>\n",
       "    <tr>\n",
       "      <th>109</th>\n",
       "      <td>Angola</td>\n",
       "      <td>2014</td>\n",
       "      <td>21.3623</td>\n",
       "      <td>8183.164577</td>\n",
       "    </tr>\n",
       "  </tbody>\n",
       "</table>\n",
       "</div>"
      ],
      "text/plain": [
       "         Country  Year  Internet_Users_Pct  GDP_Per_Capita\n",
       "5    Afghanistan  2014              7.0000     2144.449634\n",
       "27       Albania  2014             54.3000    11586.817446\n",
       "55       Algeria  2014             29.5000    11561.259795\n",
       "83       Andorra  2014             86.1000             NaN\n",
       "109       Angola  2014             21.3623     8183.164577"
      ]
     },
     "execution_count": 66,
     "metadata": {},
     "output_type": "execute_result"
    }
   ],
   "source": [
    "gdp_and_internet_use_21.head()"
   ]
  },
  {
   "cell_type": "code",
   "execution_count": 67,
   "id": "82758f04",
   "metadata": {},
   "outputs": [],
   "source": [
    "gdp_and_internet_use_21 = gdp_and_internet_use_21.sort_values(by = 'Internet_Users_Pct' ,ascending = False).dropna()"
   ]
  },
  {
   "cell_type": "code",
   "execution_count": 68,
   "id": "3b1f7f24",
   "metadata": {},
   "outputs": [
    {
     "data": {
      "text/html": [
       "<div>\n",
       "<style scoped>\n",
       "    .dataframe tbody tr th:only-of-type {\n",
       "        vertical-align: middle;\n",
       "    }\n",
       "\n",
       "    .dataframe tbody tr th {\n",
       "        vertical-align: top;\n",
       "    }\n",
       "\n",
       "    .dataframe thead th {\n",
       "        text-align: right;\n",
       "    }\n",
       "</style>\n",
       "<table border=\"1\" class=\"dataframe\">\n",
       "  <thead>\n",
       "    <tr style=\"text-align: right;\">\n",
       "      <th></th>\n",
       "      <th>Country</th>\n",
       "      <th>Year</th>\n",
       "      <th>Internet_Users_Pct</th>\n",
       "      <th>GDP_Per_Capita</th>\n",
       "    </tr>\n",
       "  </thead>\n",
       "  <tbody>\n",
       "    <tr>\n",
       "      <th>2466</th>\n",
       "      <td>Iceland</td>\n",
       "      <td>2014</td>\n",
       "      <td>98.1580</td>\n",
       "      <td>50450.741612</td>\n",
       "    </tr>\n",
       "    <tr>\n",
       "      <th>582</th>\n",
       "      <td>Bermuda</td>\n",
       "      <td>2014</td>\n",
       "      <td>96.8000</td>\n",
       "      <td>77361.104881</td>\n",
       "    </tr>\n",
       "    <tr>\n",
       "      <th>3978</th>\n",
       "      <td>Norway</td>\n",
       "      <td>2014</td>\n",
       "      <td>96.3005</td>\n",
       "      <td>62838.515727</td>\n",
       "    </tr>\n",
       "  </tbody>\n",
       "</table>\n",
       "</div>"
      ],
      "text/plain": [
       "      Country  Year  Internet_Users_Pct  GDP_Per_Capita\n",
       "2466  Iceland  2014             98.1580    50450.741612\n",
       "582   Bermuda  2014             96.8000    77361.104881\n",
       "3978   Norway  2014             96.3005    62838.515727"
      ]
     },
     "execution_count": 68,
     "metadata": {},
     "output_type": "execute_result"
    }
   ],
   "source": [
    "gdp_and_internet_use_21.head(3)"
   ]
  },
  {
   "cell_type": "code",
   "execution_count": 69,
   "id": "da0b42b7",
   "metadata": {},
   "outputs": [
    {
     "data": {
      "text/html": [
       "<div>\n",
       "<style scoped>\n",
       "    .dataframe tbody tr th:only-of-type {\n",
       "        vertical-align: middle;\n",
       "    }\n",
       "\n",
       "    .dataframe tbody tr th {\n",
       "        vertical-align: top;\n",
       "    }\n",
       "\n",
       "    .dataframe thead th {\n",
       "        text-align: right;\n",
       "    }\n",
       "</style>\n",
       "<table border=\"1\" class=\"dataframe\">\n",
       "  <thead>\n",
       "    <tr style=\"text-align: right;\">\n",
       "      <th></th>\n",
       "      <th>Country</th>\n",
       "      <th>Year</th>\n",
       "      <th>Internet_Users_Pct</th>\n",
       "      <th>GDP_Per_Capita</th>\n",
       "    </tr>\n",
       "  </thead>\n",
       "  <tbody>\n",
       "    <tr>\n",
       "      <th>0</th>\n",
       "      <td>Afghanistan</td>\n",
       "      <td>2019</td>\n",
       "      <td>17.60</td>\n",
       "      <td>2079.921861</td>\n",
       "    </tr>\n",
       "    <tr>\n",
       "      <th>1</th>\n",
       "      <td>Afghanistan</td>\n",
       "      <td>2018</td>\n",
       "      <td>16.80</td>\n",
       "      <td>2060.698973</td>\n",
       "    </tr>\n",
       "    <tr>\n",
       "      <th>2</th>\n",
       "      <td>Afghanistan</td>\n",
       "      <td>2017</td>\n",
       "      <td>13.50</td>\n",
       "      <td>2096.093111</td>\n",
       "    </tr>\n",
       "    <tr>\n",
       "      <th>3</th>\n",
       "      <td>Afghanistan</td>\n",
       "      <td>2016</td>\n",
       "      <td>11.00</td>\n",
       "      <td>2101.422187</td>\n",
       "    </tr>\n",
       "    <tr>\n",
       "      <th>4</th>\n",
       "      <td>Afghanistan</td>\n",
       "      <td>2015</td>\n",
       "      <td>8.26</td>\n",
       "      <td>2108.714173</td>\n",
       "    </tr>\n",
       "  </tbody>\n",
       "</table>\n",
       "</div>"
      ],
      "text/plain": [
       "       Country  Year  Internet_Users_Pct  GDP_Per_Capita\n",
       "0  Afghanistan  2019               17.60     2079.921861\n",
       "1  Afghanistan  2018               16.80     2060.698973\n",
       "2  Afghanistan  2017               13.50     2096.093111\n",
       "3  Afghanistan  2016               11.00     2101.422187\n",
       "4  Afghanistan  2015                8.26     2108.714173"
      ]
     },
     "execution_count": 69,
     "metadata": {},
     "output_type": "execute_result"
    }
   ],
   "source": [
    "gdp_and_internet_use.head()"
   ]
  },
  {
   "cell_type": "code",
   "execution_count": 70,
   "id": "ebff3d24",
   "metadata": {},
   "outputs": [],
   "source": [
    "gdp_and_internet_use_p2 = gdp_and_internet_use.loc[gdp_and_internet_use.Country.isin(['Iceland', 'Bermuda', 'Norway'])]"
   ]
  },
  {
   "cell_type": "code",
   "execution_count": 71,
   "id": "7a9f2b42",
   "metadata": {},
   "outputs": [
    {
     "name": "stderr",
     "output_type": "stream",
     "text": [
      "/Users/georgetoma/anaconda3/lib/python3.11/site-packages/seaborn/axisgrid.py:118: UserWarning: The figure layout has changed to tight\n",
      "  self._figure.tight_layout(*args, **kwargs)\n"
     ]
    },
    {
     "data": {
      "text/plain": [
       "<seaborn.axisgrid.FacetGrid at 0x13e155150>"
      ]
     },
     "execution_count": 71,
     "metadata": {},
     "output_type": "execute_result"
    },
    {
     "data": {
      "image/png": "[encoded data removed]",
      "text/plain": [
       "<Figure size 900x300 with 3 Axes>"
      ]
     },
     "metadata": {},
     "output_type": "display_data"
    }
   ],
   "source": [
    "g = sns.FacetGrid(gdp_and_internet_use_p2, col = 'Country')\n",
    "g.map(sns.lineplot, \"Year\", \"GDP_Per_Capita\")"
   ]
  },
  {
   "cell_type": "markdown",
   "id": "eabddf20",
   "metadata": {},
   "source": [
    "22. Subset `gdp_and_internet_use` to just the year 2014. Save this as a new dataframe named `gdp_and_internet_use_2014`."
   ]
  },
  {
   "cell_type": "code",
   "execution_count": 72,
   "id": "fb9c8052",
   "metadata": {},
   "outputs": [],
   "source": [
    "gdp_and_internet_use_2014 = gdp_and_internet_use[gdp_and_internet_use.Year == 2014]"
   ]
  },
  {
   "cell_type": "code",
   "execution_count": 73,
   "id": "5b785343",
   "metadata": {},
   "outputs": [],
   "source": [
    "gdp_and_internet_use_2014 = gdp_and_internet_use_2014.drop('Year', axis=1)"
   ]
  },
  {
   "cell_type": "markdown",
   "id": "1d2dc0dd",
   "metadata": {},
   "source": [
    "23. Create a plot which compares Internet Users Percentage and GDP per Capita for the year 2014. What do you notice from this plot? If you see any unusual points, investigate them."
   ]
  },
  {
   "cell_type": "code",
   "execution_count": 75,
   "id": "d8cc6847",
   "metadata": {},
   "outputs": [
    {
     "data": {
      "text/plain": [
       "<Axes: xlabel='GDP_Per_Capita', ylabel='Internet_Users_Pct'>"
      ]
     },
     "execution_count": 75,
     "metadata": {},
     "output_type": "execute_result"
    },
    {
     "data": {
      "image/png": "[encoded data removed]",
      "text/plain": [
       "<Figure size 640x480 with 1 Axes>"
      ]
     },
     "metadata": {},
     "output_type": "display_data"
    }
   ],
   "source": [
    "gdp_and_internet_use_2014.plot.scatter(y = 'Internet_Users_Pct', x = 'GDP_Per_Capita')"
   ]
  },
  {
   "cell_type": "markdown",
   "id": "7fcce21a",
   "metadata": {},
   "source": [
    "24. **Stretch Question:** Use the `qcut` function from pandas (https://pandas.pydata.org/docs/reference/api/pandas.qcut.html) to divide countries in `gdp_per_capita_2014` into three groups based on their GDP per capita values. Label these groups as \"Low\", \"Medium\", and \"High\". Put these labels in a new column, named \"GDP_group\"."
   ]
  },
  {
   "cell_type": "code",
   "execution_count": 82,
   "id": "5c5e1037",
   "metadata": {},
   "outputs": [
    {
     "ename": "NameError",
     "evalue": "name 'gdp_per_capita_2014' is not defined",
     "output_type": "error",
     "traceback": [
      "\u001b[0;31m---------------------------------------------------------------------------\u001b[0m",
      "\u001b[0;31mNameError\u001b[0m                                 Traceback (most recent call last)",
      "Cell \u001b[0;32mIn[82], line 1\u001b[0m\n\u001b[0;32m----> 1\u001b[0m gdp_per_capita_2014\u001b[38;5;241m.\u001b[39mGDP_Per_Capita\u001b[38;5;241m.\u001b[39mqcut()\n",
      "\u001b[0;31mNameError\u001b[0m: name 'gdp_per_capita_2014' is not defined"
     ]
    }
   ],
   "source": [
    "gdp_per_capita_2014.GDP_Per_Capita.qcut()"
   ]
  },
  {
   "cell_type": "code",
   "execution_count": null,
   "id": "4148555a",
   "metadata": {},
   "outputs": [],
   "source": []
  }
 ],
 "metadata": {
  "kernelspec": {
   "display_name": "Python 3 (ipykernel)",
   "language": "python",
   "name": "python3"
  },
  "language_info": {
   "codemirror_mode": {
    "name": "ipython",
    "version": 3
   },
   "file_extension": ".py",
   "mimetype": "text/x-python",
   "name": "python",
   "nbconvert_exporter": "python",
   "pygments_lexer": "ipython3",
   "version": "3.11.5"
  }
 },
 "nbformat": 4,
 "nbformat_minor": 5
}
